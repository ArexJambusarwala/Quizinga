{
  "nbformat": 4,
  "nbformat_minor": 0,
  "metadata": {
    "colab": {
      "name": "ML.ipynb",
      "provenance": [],
      "collapsed_sections": [],
      "authorship_tag": "ABX9TyNdzaNYpSYSky+NxQK430rl",
      "include_colab_link": true
    },
    "kernelspec": {
      "name": "python3",
      "display_name": "Python 3"
    }
  },
  "cells": [
    {
      "cell_type": "markdown",
      "metadata": {
        "id": "view-in-github",
        "colab_type": "text"
      },
      "source": [
        "<a href=\"https://colab.research.google.com/github/ArexJambusarwala/Quizinga/blob/master/ML.ipynb\" target=\"_parent\"><img src=\"https://colab.research.google.com/assets/colab-badge.svg\" alt=\"Open In Colab\"/></a>"
      ]
    },
    {
      "cell_type": "code",
      "metadata": {
        "id": "FIrZy-yNHvHq",
        "colab_type": "code",
        "colab": {}
      },
      "source": [
        "from pandas_datareader import data\n",
        "import pandas as pd\n",
        "import matplotlib.pyplot as plt\n",
        "from datetime import datetime\n"
      ],
      "execution_count": 0,
      "outputs": []
    },
    {
      "cell_type": "code",
      "metadata": {
        "id": "yEYUkITjGq-Q",
        "colab_type": "code",
        "colab": {}
      },
      "source": [
        "start_date = '2015-01-01'\n",
        "end_date = datetime.now().strftime(\"%Y-%m-%d\")\n",
        "\n",
        "symbols = ['AAPL','AMZN','MSFT','GOOG','IBM','ORCL']\n",
        "\n",
        "for i in symbols:\n",
        "    data.DataReader(i,'yahoo',start_date,end_date).to_csv(i+'.csv')"
      ],
      "execution_count": 0,
      "outputs": []
    },
    {
      "cell_type": "code",
      "metadata": {
        "id": "DDDcntczKPFF",
        "colab_type": "code",
        "colab": {}
      },
      "source": [
        "for i in symbols:\n",
        "  file=i+\".csv\"\n",
        "  data=pd.read_csv(file)\n",
        "  date=data['Date']\n",
        "  close=data['Close']\n",
        "  change=[0]*len(date)\n",
        "  momentum=[0]*len(date)\n",
        "  dates = [j.split(' ', 1)[0] for j in date]\n",
        "  for i in range(1,len(date)):\n",
        "    if close[i]>close[i-1]:\n",
        "      momentum[i]=1\n",
        "      change[i]=(close[i]-close[i-1])/close[i-1]\n",
        "    else:\n",
        "      momentum[i]=-1\n",
        "      change[i]=(close[i-1]-close[i])/close[i-1]\n",
        "  data=pd.DataFrame({'Date':date,'Close':close,'Change':change,'Momentum':momentum})\n",
        "  data.to_csv(file.split('.')[0]+\"_modified.csv\",index=False,header=True)"
      ],
      "execution_count": 0,
      "outputs": []
    },
    {
      "cell_type": "code",
      "metadata": {
        "id": "PV4oMk5yPX13",
        "colab_type": "code",
        "colab": {}
      },
      "source": [
        "for i in symbols:\n",
        "  filex=i+\"_modified.csv\"\n",
        "  datax=pd.read_csv(file)\n",
        "  date=datax['Date']\n",
        "  close=datax['Close']\n",
        "  change=datax['Change']\n",
        "  momentum=datax['Momentum']\n",
        "\n",
        "  for j in range(5,len(date)):\n",
        "    "
      ],
      "execution_count": 0,
      "outputs": []
    }
  ]
}